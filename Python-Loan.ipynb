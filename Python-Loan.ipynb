{
 "cells": [
  {
   "cell_type": "code",
   "execution_count": 1,
   "metadata": {},
   "outputs": [
    {
     "name": "stdout",
     "output_type": "stream",
     "text": [
      "Welcome to loan risk calculation system\n",
      "Enter Applicant Details\n",
      "Enter your name: Mehak\n",
      "Enter your yearly income: 4000\n",
      "Enter your average yearly expenses: 1500\n",
      "Enter total existing EMI: 100\n",
      "Enter your savings: 2000\n"
     ]
    }
   ],
   "source": [
    "print(\"Welcome to loan risk calculation system\")\n",
    "print(\"Enter Applicant Details\")\n",
    "name=input(\"Enter your name: \")\n",
    "income=float(input(\"Enter your yearly income: \"))\n",
    "expenses=float(input(\"Enter your average yearly expenses: \"))\n",
    "emi=float(input(\"Enter total existing EMI: \"))\n",
    "savings=float(input(\"Enter your savings: \"))"
   ]
  },
  {
   "cell_type": "code",
   "execution_count": 2,
   "metadata": {},
   "outputs": [
    {
     "name": "stdout",
     "output_type": "stream",
     "text": [
      "Enter Loan Details:\n",
      "Enter the total loan amount:30000\n",
      "Enter the number of years it's taken for:10\n"
     ]
    }
   ],
   "source": [
    "print(\"Enter Loan Details:\")\n",
    "amount=float(input(\"Enter the total loan amount:\"))\n",
    "year=int(input(\"Enter the number of years it's taken for:\"))\n",
    "yr_amt=amount/year"
   ]
  },
  {
   "cell_type": "code",
   "execution_count": 3,
   "metadata": {},
   "outputs": [],
   "source": [
    "final=income-expenses+savings-yr_amt-emi*12\n",
    "credit=0\n",
    "if final>=0:\n",
    "    credit=40\n",
    "else:\n",
    "    credit=0"
   ]
  },
  {
   "cell_type": "code",
   "execution_count": 4,
   "metadata": {},
   "outputs": [
    {
     "name": "stdout",
     "output_type": "stream",
     "text": [
      "Other details\n",
      "Do you own a house? (y/n):y\n",
      "Have you taken a loan previously? (y/n):y\n",
      "Have you successfully paid that loan? (y/n):n\n",
      "Do you own a car not on loan? (y/n):y\n",
      "How old is the car? :4\n"
     ]
    }
   ],
   "source": [
    "print(\"Other details\")\n",
    "house=input(\"Do you own a house? (y/n):\")\n",
    "credit+=10 if house=='y' else -5\n",
    "loan=input(\"Have you taken a loan previously? (y/n):\")\n",
    "if loan=='y':\n",
    "    cmp=input(\"Have you successfully paid that loan? (y/n):\")\n",
    "    credit+=20 if house=='y' else -20\n",
    "temp=savings/amount\n",
    "if temp>0.6:\n",
    "    credit+=10\n",
    "elif temp>0.5:\n",
    "    credit+=7\n",
    "elif temp>0.4:\n",
    "    credit+=4\n",
    "else:\n",
    "    credit+=0\n",
    "car=input(\"Do you own a car not on loan? (y/n):\")\n",
    "if car=='y':\n",
    "    c_time=int(input(\"How old is the car? :\"))\n",
    "    credit+=10 if c_time<5 else 0"
   ]
  },
  {
   "cell_type": "code",
   "execution_count": 7,
   "metadata": {},
   "outputs": [
    {
     "name": "stdout",
     "output_type": "stream",
     "text": [
      "Risk Factor:\n",
      "Very Low\n"
     ]
    },
    {
     "data": {
      "text/plain": [
       "80"
      ]
     },
     "execution_count": 7,
     "metadata": {},
     "output_type": "execute_result"
    }
   ],
   "source": [
    "print(\"Risk Factor:\")\n",
    "if credit>=80:\n",
    "    print(\"Very Low\")\n",
    "elif credit>=60:\n",
    "    print(\"Low\")\n",
    "elif credit>=40:\n",
    "    print(\"Mild\")\n",
    "else:\n",
    "    print(\"High\")\n",
    "credit"
   ]
  }
 ],
 "metadata": {
  "kernelspec": {
   "display_name": "Python 3",
   "language": "python",
   "name": "python3"
  },
  "language_info": {
   "codemirror_mode": {
    "name": "ipython",
    "version": 3
   },
   "file_extension": ".py",
   "mimetype": "text/x-python",
   "name": "python",
   "nbconvert_exporter": "python",
   "pygments_lexer": "ipython3",
   "version": "3.7.3"
  }
 },
 "nbformat": 4,
 "nbformat_minor": 2
}
